{
 "cells": [
  {
   "cell_type": "code",
   "execution_count": 3,
   "metadata": {
    "collapsed": false
   },
   "outputs": [
    {
     "name": "stderr",
     "output_type": "stream",
     "text": [
      "/home/ypraw/anaconda3/lib/python3.6/site-packages/ipykernel/__main__.py:8: Warning: (1366, \"Incorrect integer value: '' for column 'id' at row 1\")\n"
     ]
    }
   ],
   "source": [
    "import MySQLdb as db\n",
    "\n",
    "connection = db.connect('127.0.0.1', 'root', '', 'pos')\n",
    "\n",
    "cursor = connection.cursor()\n",
    "\n",
    "\n",
    "cursor.execute(\"INSERT INTO `product` VALUES (%s, %s, %s, %s)\",('','Roti Sobek','5000','50',))\n",
    "connection.commit()"
   ]
  },
  {
   "cell_type": "code",
   "execution_count": 1,
   "metadata": {
    "collapsed": false
   },
   "outputs": [
    {
     "name": "stdout",
     "output_type": "stream",
     "text": [
      "(1, 'Sabun Mandi Lux', 3500, 4)\n",
      "(2, 'Marlboro Black Filter', 20700, 12)\n",
      "(4, 'Sabun cuci Muka', 15000, 50)\n",
      "(8, 'Shampo', 5000, 50)\n",
      "(9, 'Teh Kotak', 20, 3000)\n"
     ]
    },
    {
     "name": "stderr",
     "output_type": "stream",
     "text": [
      "/home/ypraw/anaconda3/lib/python3.6/site-packages/ipykernel/__main__.py:9: Warning: (145, \"Table './pos/product' is marked as crashed and should be repaired\")\n",
      "/home/ypraw/anaconda3/lib/python3.6/site-packages/ipykernel/__main__.py:9: Warning: (1194, \"Table 'product' is marked as crashed and should be repaired\")\n",
      "/home/ypraw/anaconda3/lib/python3.6/site-packages/ipykernel/__main__.py:9: Warning: (1034, \"1 client is using or hasn't closed the table properly\")\n"
     ]
    }
   ],
   "source": [
    "import MySQLdb as db\n",
    "\n",
    "connection = db.connect('127.0.0.1', 'root', '', 'pos')\n",
    "\n",
    "cursor = connection.cursor()\n",
    "\n",
    "query = \"SELECT * from product\"\n",
    "\n",
    "cursor.execute(query)\n",
    "result = cursor.fetchall()\n",
    "for items in result:\n",
    "    print(items)"
   ]
  },
  {
   "cell_type": "code",
   "execution_count": 5,
   "metadata": {
    "collapsed": false
   },
   "outputs": [
    {
     "name": "stdout",
     "output_type": "stream",
     "text": [
      "Checking connection of MYSQL ...\n",
      "Connected to Mysql Database\n",
      "\n",
      "(1, 'Permen', 500, 10)\n",
      "(2, 'Marlboro Black Filter', 20700, 12)\n",
      "(4, 'Sabun cuci Muka', 15000, 50)\n",
      "(8, 'Shampo', 5000, 50)\n",
      "(9, 'Teh Kotak', 20, 3000)\n",
      "(11, 'Roti Sobek', 5000, 50)\n",
      "Finishing operation ...\n",
      "Finished\n"
     ]
    }
   ],
   "source": [
    "import connection as dbs\n",
    "import warnings\n",
    "warnings.filterwarnings('error')\n",
    "\n",
    "mysqli = dbs.MysqlUserDB(DBrootHost='127.0.0.1', DBrootUser='root',\n",
    "                         DBrootPass='', DBrootDatabase='pos')\n",
    "\n",
    "db = mysqli.getDB()\n",
    "\n",
    "try:\n",
    "    db.execute(\"select * from product\")\n",
    "    results = db.fetchall()\n",
    "    for result in results:\n",
    "        print(result)\n",
    "except db.Error as error:\n",
    "    print(error)\n",
    "mysqli.delCon()\n"
   ]
  },
  {
   "cell_type": "code",
   "execution_count": null,
   "metadata": {
    "collapsed": true
   },
   "outputs": [],
   "source": []
  }
 ],
 "metadata": {
  "kernelspec": {
   "display_name": "Python 3",
   "language": "python",
   "name": "python3"
  },
  "language_info": {
   "codemirror_mode": {
    "name": "ipython",
    "version": 3
   },
   "file_extension": ".py",
   "mimetype": "text/x-python",
   "name": "python",
   "nbconvert_exporter": "python",
   "pygments_lexer": "ipython3",
   "version": "3.6.1"
  }
 },
 "nbformat": 4,
 "nbformat_minor": 2
}
