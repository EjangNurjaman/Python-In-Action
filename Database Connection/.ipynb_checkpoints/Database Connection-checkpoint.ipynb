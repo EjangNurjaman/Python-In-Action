{
 "cells": [
  {
   "cell_type": "code",
   "execution_count": 26,
   "metadata": {
    "collapsed": false
   },
   "outputs": [
    {
     "name": "stderr",
     "output_type": "stream",
     "text": [
      "/home/ypraw/anaconda3/lib/python3.6/site-packages/ipykernel/__main__.py:8: Warning: (1366, \"Incorrect integer value: '' for column 'id' at row 1\")\n"
     ]
    }
   ],
   "source": [
    "import MySQLdb as db\n",
    "\n",
    "connection = db.connect('127.0.0.1', 'root', '', 'pos')\n",
    "\n",
    "cursor = connection.cursor()\n",
    "\n",
    "\n",
    "cursor.execute(\"INSERT INTO `product` VALUES (%s, %s, %s, %s)\",('','Shampo','5000','50',))\n",
    "connection.commit()"
   ]
  },
  {
   "cell_type": "code",
   "execution_count": 13,
   "metadata": {
    "collapsed": false
   },
   "outputs": [
    {
     "name": "stdout",
     "output_type": "stream",
     "text": [
      "(1, 'Sabun Mandi Lux', 3500, 10)\n",
      "(2, 'Marlboro Black Filter', 20700, 12)\n",
      "(4, 'Sabun cuci Muka', 15000, 100)\n"
     ]
    }
   ],
   "source": [
    "import MySQLdb as db\n",
    "\n",
    "connection = db.connect('127.0.0.1', 'root', '', 'pos')\n",
    "\n",
    "cursor = connection.cursor()\n",
    "\n",
    "query = \"SELECT * from product\"\n",
    "\n",
    "cursor.execute(query)\n",
    "result = cursor.fetchall()\n",
    "for items in result:\n",
    "    print(items)"
   ]
  },
  {
   "cell_type": "code",
   "execution_count": null,
   "metadata": {
    "collapsed": true
   },
   "outputs": [],
   "source": []
  },
  {
   "cell_type": "code",
   "execution_count": null,
   "metadata": {
    "collapsed": true
   },
   "outputs": [],
   "source": []
  }
 ],
 "metadata": {
  "kernelspec": {
   "display_name": "Python 3",
   "language": "python",
   "name": "python3"
  },
  "language_info": {
   "codemirror_mode": {
    "name": "ipython",
    "version": 3
   },
   "file_extension": ".py",
   "mimetype": "text/x-python",
   "name": "python",
   "nbconvert_exporter": "python",
   "pygments_lexer": "ipython3",
   "version": "3.6.1"
  }
 },
 "nbformat": 4,
 "nbformat_minor": 2
}
